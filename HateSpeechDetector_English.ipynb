{
  "nbformat": 4,
  "nbformat_minor": 0,
  "metadata": {
    "colab": {
      "provenance": []
    },
    "kernelspec": {
      "name": "python3",
      "display_name": "Python 3"
    },
    "language_info": {
      "name": "python"
    }
  },
  "cells": [
    {
      "cell_type": "markdown",
      "source": [
        "\n",
        "# **HATE SPEECH DETECTION OF INSTAGRAM COMMENTS AND REELS**\n",
        "\n",
        "---\n",
        "\n",
        "---\n",
        "\n",
        "\n",
        "1. The project aims to develop a hate speech detection system for Instagram comments and reels.\n",
        "2. Utilizing natural language processing and machine learning, it identifies and flags potentially offensive content.\n",
        "3. Training on a diverse dataset helps the model distinguish between hate speech and legitimate expression.\n",
        "4. The goal is to enhance online safety by automating the identification of harmful language.\n",
        "5. Continuous refinement ensures adaptability to evolving language trends and emerging forms of online abuse."
      ],
      "metadata": {
        "id": "NsTY1t5Qs-C5"
      }
    },
    {
      "cell_type": "markdown",
      "source": [
        "# **Installing libraries**\n",
        "\n",
        "---\n",
        "\n",
        "\n",
        "\n",
        "---\n",
        "NLTK, which stands for Natural Language Toolkit, is a powerful Python library for working with human language data. It provides easy-to-use interfaces to over 50 corpora and lexical resources, such as WordNet, along with a suite of text processing libraries for classification, tokenization, stemming, tagging, parsing, and more.\n",
        "\n",
        "##**1. How this library helps ?**\n",
        "\n",
        "---\n",
        "* `Import NLTK:` Incorporate NLTK into Python to access its language processing\n",
        "tools.\n",
        "\n",
        "* `Download Resources:` Acquire linguistic data and models necessary for various tasks.\n",
        "\n",
        "* `Tokenization:` Break down raw text into smaller units like words or sentences.\n",
        "\n",
        "* `Text Processing:` Utilize NLTK for tasks such as stemming, part-of-speech tagging, and named entity recognition.\n",
        "\n",
        "* `Apply NLTK Features:` Leverage NLTK for advanced applications like sentiment analysis and text classification, enabling the extraction of meaningful insights from text data.\n",
        "\n"
      ],
      "metadata": {
        "id": "pG_wL4U7Fj1e"
      }
    },
    {
      "cell_type": "code",
      "execution_count": null,
      "metadata": {
        "colab": {
          "base_uri": "https://localhost:8080/"
        },
        "id": "pkQP7Tb9cAUT",
        "outputId": "3bb9c220-3b0c-405c-f508-3d81babf1413"
      },
      "outputs": [
        {
          "output_type": "stream",
          "name": "stdout",
          "text": [
            "Requirement already satisfied: nltk in /usr/local/lib/python3.10/dist-packages (3.8.1)\n",
            "Requirement already satisfied: click in /usr/local/lib/python3.10/dist-packages (from nltk) (8.1.7)\n",
            "Requirement already satisfied: joblib in /usr/local/lib/python3.10/dist-packages (from nltk) (1.3.2)\n",
            "Requirement already satisfied: regex>=2021.8.3 in /usr/local/lib/python3.10/dist-packages (from nltk) (2023.6.3)\n",
            "Requirement already satisfied: tqdm in /usr/local/lib/python3.10/dist-packages (from nltk) (4.66.1)\n"
          ]
        }
      ],
      "source": [
        "pip install nltk"
      ]
    },
    {
      "cell_type": "markdown",
      "source": [
        "# Explanation\n",
        "\n",
        "---\n",
        "\n",
        "\n",
        "\n",
        "---\n",
        "\n",
        "* `stopwords:` nltk.download('stopwords') retrieves a set of common words (e.g., \"the,\" \"is,\" \"and\") that are often excluded from text analysis tasks to focus on more meaningful content.\n",
        "\n",
        "* `wordnet:` nltk.download('wordnet') downloads the WordNet lexical database, providing access to a structured collection of words and their relationships, useful for tasks like synonym identification and semantic analysis.\n",
        "\n",
        "* `punkt:` nltk.download('punkt') downloads the Punkt tokenizer models, enhancing NLTK's capabilities in tasks like sentence and word tokenization for various natural language processing applications."
      ],
      "metadata": {
        "id": "gED59oXW5Pbl"
      }
    },
    {
      "cell_type": "code",
      "source": [
        "import nltk\n",
        "nltk.download('stopwords')\n",
        "nltk.download('wordnet')\n",
        "nltk.download('punkt')"
      ],
      "metadata": {
        "colab": {
          "base_uri": "https://localhost:8080/"
        },
        "id": "KAOCtYXscPq8",
        "outputId": "c244da4f-53b8-4564-e530-80d7e6d2ad3d"
      },
      "execution_count": null,
      "outputs": [
        {
          "output_type": "stream",
          "name": "stderr",
          "text": [
            "[nltk_data] Downloading package stopwords to /root/nltk_data...\n",
            "[nltk_data]   Package stopwords is already up-to-date!\n",
            "[nltk_data] Downloading package wordnet to /root/nltk_data...\n",
            "[nltk_data]   Package wordnet is already up-to-date!\n",
            "[nltk_data] Downloading package punkt to /root/nltk_data...\n",
            "[nltk_data]   Package punkt is already up-to-date!\n"
          ]
        },
        {
          "output_type": "execute_result",
          "data": {
            "text/plain": [
              "True"
            ]
          },
          "metadata": {},
          "execution_count": 12
        }
      ]
    },
    {
      "cell_type": "markdown",
      "source": [
        "# **Uploading Un - Pre-processed file**\n",
        "\n",
        "---\n",
        "\n",
        "\n",
        "\n",
        "---\n",
        "\n"
      ],
      "metadata": {
        "id": "0F2f98DYzKYz"
      }
    },
    {
      "cell_type": "code",
      "source": [
        "from google.colab import files\n",
        "uploaded=files.upload()"
      ],
      "metadata": {
        "colab": {
          "base_uri": "https://localhost:8080/",
          "height": 73
        },
        "id": "6Ex1pPMfcvjN",
        "outputId": "714c9895-6baf-4b03-c8b7-4c17a229b4ad"
      },
      "execution_count": null,
      "outputs": [
        {
          "output_type": "display_data",
          "data": {
            "text/plain": [
              "<IPython.core.display.HTML object>"
            ],
            "text/html": [
              "\n",
              "     <input type=\"file\" id=\"files-79024bdc-bd6c-445d-a943-bef53cdc9ebf\" name=\"files[]\" multiple disabled\n",
              "        style=\"border:none\" />\n",
              "     <output id=\"result-79024bdc-bd6c-445d-a943-bef53cdc9ebf\">\n",
              "      Upload widget is only available when the cell has been executed in the\n",
              "      current browser session. Please rerun this cell to enable.\n",
              "      </output>\n",
              "      <script>// Copyright 2017 Google LLC\n",
              "//\n",
              "// Licensed under the Apache License, Version 2.0 (the \"License\");\n",
              "// you may not use this file except in compliance with the License.\n",
              "// You may obtain a copy of the License at\n",
              "//\n",
              "//      http://www.apache.org/licenses/LICENSE-2.0\n",
              "//\n",
              "// Unless required by applicable law or agreed to in writing, software\n",
              "// distributed under the License is distributed on an \"AS IS\" BASIS,\n",
              "// WITHOUT WARRANTIES OR CONDITIONS OF ANY KIND, either express or implied.\n",
              "// See the License for the specific language governing permissions and\n",
              "// limitations under the License.\n",
              "\n",
              "/**\n",
              " * @fileoverview Helpers for google.colab Python module.\n",
              " */\n",
              "(function(scope) {\n",
              "function span(text, styleAttributes = {}) {\n",
              "  const element = document.createElement('span');\n",
              "  element.textContent = text;\n",
              "  for (const key of Object.keys(styleAttributes)) {\n",
              "    element.style[key] = styleAttributes[key];\n",
              "  }\n",
              "  return element;\n",
              "}\n",
              "\n",
              "// Max number of bytes which will be uploaded at a time.\n",
              "const MAX_PAYLOAD_SIZE = 100 * 1024;\n",
              "\n",
              "function _uploadFiles(inputId, outputId) {\n",
              "  const steps = uploadFilesStep(inputId, outputId);\n",
              "  const outputElement = document.getElementById(outputId);\n",
              "  // Cache steps on the outputElement to make it available for the next call\n",
              "  // to uploadFilesContinue from Python.\n",
              "  outputElement.steps = steps;\n",
              "\n",
              "  return _uploadFilesContinue(outputId);\n",
              "}\n",
              "\n",
              "// This is roughly an async generator (not supported in the browser yet),\n",
              "// where there are multiple asynchronous steps and the Python side is going\n",
              "// to poll for completion of each step.\n",
              "// This uses a Promise to block the python side on completion of each step,\n",
              "// then passes the result of the previous step as the input to the next step.\n",
              "function _uploadFilesContinue(outputId) {\n",
              "  const outputElement = document.getElementById(outputId);\n",
              "  const steps = outputElement.steps;\n",
              "\n",
              "  const next = steps.next(outputElement.lastPromiseValue);\n",
              "  return Promise.resolve(next.value.promise).then((value) => {\n",
              "    // Cache the last promise value to make it available to the next\n",
              "    // step of the generator.\n",
              "    outputElement.lastPromiseValue = value;\n",
              "    return next.value.response;\n",
              "  });\n",
              "}\n",
              "\n",
              "/**\n",
              " * Generator function which is called between each async step of the upload\n",
              " * process.\n",
              " * @param {string} inputId Element ID of the input file picker element.\n",
              " * @param {string} outputId Element ID of the output display.\n",
              " * @return {!Iterable<!Object>} Iterable of next steps.\n",
              " */\n",
              "function* uploadFilesStep(inputId, outputId) {\n",
              "  const inputElement = document.getElementById(inputId);\n",
              "  inputElement.disabled = false;\n",
              "\n",
              "  const outputElement = document.getElementById(outputId);\n",
              "  outputElement.innerHTML = '';\n",
              "\n",
              "  const pickedPromise = new Promise((resolve) => {\n",
              "    inputElement.addEventListener('change', (e) => {\n",
              "      resolve(e.target.files);\n",
              "    });\n",
              "  });\n",
              "\n",
              "  const cancel = document.createElement('button');\n",
              "  inputElement.parentElement.appendChild(cancel);\n",
              "  cancel.textContent = 'Cancel upload';\n",
              "  const cancelPromise = new Promise((resolve) => {\n",
              "    cancel.onclick = () => {\n",
              "      resolve(null);\n",
              "    };\n",
              "  });\n",
              "\n",
              "  // Wait for the user to pick the files.\n",
              "  const files = yield {\n",
              "    promise: Promise.race([pickedPromise, cancelPromise]),\n",
              "    response: {\n",
              "      action: 'starting',\n",
              "    }\n",
              "  };\n",
              "\n",
              "  cancel.remove();\n",
              "\n",
              "  // Disable the input element since further picks are not allowed.\n",
              "  inputElement.disabled = true;\n",
              "\n",
              "  if (!files) {\n",
              "    return {\n",
              "      response: {\n",
              "        action: 'complete',\n",
              "      }\n",
              "    };\n",
              "  }\n",
              "\n",
              "  for (const file of files) {\n",
              "    const li = document.createElement('li');\n",
              "    li.append(span(file.name, {fontWeight: 'bold'}));\n",
              "    li.append(span(\n",
              "        `(${file.type || 'n/a'}) - ${file.size} bytes, ` +\n",
              "        `last modified: ${\n",
              "            file.lastModifiedDate ? file.lastModifiedDate.toLocaleDateString() :\n",
              "                                    'n/a'} - `));\n",
              "    const percent = span('0% done');\n",
              "    li.appendChild(percent);\n",
              "\n",
              "    outputElement.appendChild(li);\n",
              "\n",
              "    const fileDataPromise = new Promise((resolve) => {\n",
              "      const reader = new FileReader();\n",
              "      reader.onload = (e) => {\n",
              "        resolve(e.target.result);\n",
              "      };\n",
              "      reader.readAsArrayBuffer(file);\n",
              "    });\n",
              "    // Wait for the data to be ready.\n",
              "    let fileData = yield {\n",
              "      promise: fileDataPromise,\n",
              "      response: {\n",
              "        action: 'continue',\n",
              "      }\n",
              "    };\n",
              "\n",
              "    // Use a chunked sending to avoid message size limits. See b/62115660.\n",
              "    let position = 0;\n",
              "    do {\n",
              "      const length = Math.min(fileData.byteLength - position, MAX_PAYLOAD_SIZE);\n",
              "      const chunk = new Uint8Array(fileData, position, length);\n",
              "      position += length;\n",
              "\n",
              "      const base64 = btoa(String.fromCharCode.apply(null, chunk));\n",
              "      yield {\n",
              "        response: {\n",
              "          action: 'append',\n",
              "          file: file.name,\n",
              "          data: base64,\n",
              "        },\n",
              "      };\n",
              "\n",
              "      let percentDone = fileData.byteLength === 0 ?\n",
              "          100 :\n",
              "          Math.round((position / fileData.byteLength) * 100);\n",
              "      percent.textContent = `${percentDone}% done`;\n",
              "\n",
              "    } while (position < fileData.byteLength);\n",
              "  }\n",
              "\n",
              "  // All done.\n",
              "  yield {\n",
              "    response: {\n",
              "      action: 'complete',\n",
              "    }\n",
              "  };\n",
              "}\n",
              "\n",
              "scope.google = scope.google || {};\n",
              "scope.google.colab = scope.google.colab || {};\n",
              "scope.google.colab._files = {\n",
              "  _uploadFiles,\n",
              "  _uploadFilesContinue,\n",
              "};\n",
              "})(self);\n",
              "</script> "
            ]
          },
          "metadata": {}
        },
        {
          "output_type": "stream",
          "name": "stdout",
          "text": [
            "Saving HateSpeech_dataset_AIES_2.csv to HateSpeech_dataset_AIES_2.csv\n"
          ]
        }
      ]
    },
    {
      "cell_type": "markdown",
      "source": [
        "# **Preprocesing steps**\n",
        "\n",
        "---\n",
        "\n",
        "\n",
        "\n",
        "---\n",
        "\n",
        "\n",
        "\n",
        "* `Text Cleaning:` Remove special characters, URLs, mentions, and non-alphanumeric characters. You might want to replace emoticons or special characters with their textual meanings.\n",
        "\n",
        "* `Lowercasing:` Convert all text to lowercase to ensure consistency.\n",
        "\n",
        "* `Tokenization:` Split the text into individual words or tokens.\n",
        "\n",
        "* `Removing Stopwords:` Exclude common words that don't contribute much to the meaning.\n",
        "\n",
        "* `Stemming or Lemmatization:` Reduce words to their base form to normalize variations (e.g., \"running\" -> \"run\").\n",
        "\n",
        "* `Handling Contractions and Abbreviations:` Expand contractions (\"don't\" -> \"do not\")."
      ],
      "metadata": {
        "id": "HV4Tryhyf_uJ"
      }
    },
    {
      "cell_type": "code",
      "source": [
        "import pandas as pd\n",
        "import re\n",
        "from nltk.tokenize import word_tokenize\n",
        "from nltk.corpus import stopwords\n",
        "from nltk.stem import WordNetLemmatizer\n",
        "\n",
        "data = pd.read_csv('HateSpeech_dataset_AIES_2.csv', encoding='ISO-8859-1')\n",
        "\n",
        "# Function for text cleaning\n",
        "def clean_text(text):\n",
        "    # Remove mentions, URLs, and special characters\n",
        "    text = re.sub(r'@[A-Za-z0-9_]+|https?://[A-Za-z0-9./]+|[^A-Za-z]', ' ', text)\n",
        "\n",
        "    # Lowercase the text\n",
        "    text = text.lower()\n",
        "\n",
        "    return text\n",
        "\n",
        "# Function for tokenization, removing stopwords, and lemmatization\n",
        "def preprocess_text(text):\n",
        "    # Tokenization\n",
        "    tokens = word_tokenize(text)\n",
        "\n",
        "    # Remove stopwords\n",
        "    stop_words = set(stopwords.words('english'))\n",
        "    filtered_tokens = [word for word in tokens if word not in stop_words]\n",
        "\n",
        "    # Lemmatization\n",
        "    lemmatizer = WordNetLemmatizer()\n",
        "    lemmatized_tokens = [lemmatizer.lemmatize(word) for word in filtered_tokens]\n",
        "\n",
        "    return ' '.join(lemmatized_tokens)\n",
        "\n",
        "# Apply text cleaning and preprocessing to the dataset\n",
        "data['cleaned_text'] = data['hatespeech'].apply(lambda x: clean_text(x))\n",
        "data['preprocessed_text'] = data['cleaned_text'].apply(lambda x: preprocess_text(x))\n",
        "\n",
        "# Save the preprocessed data to a new CSV file\n",
        "data.to_csv('preprocessed_hate_speech_dataset.csv', index=False)\n"
      ],
      "metadata": {
        "id": "RfbJWmcXcaXg"
      },
      "execution_count": null,
      "outputs": []
    },
    {
      "cell_type": "code",
      "source": [
        "import os\n",
        "print(os.getcwd())\n"
      ],
      "metadata": {
        "colab": {
          "base_uri": "https://localhost:8080/"
        },
        "id": "oQorjjL7exU4",
        "outputId": "1bc3816c-9b92-48d3-c165-8c2e0bb3aa03"
      },
      "execution_count": null,
      "outputs": [
        {
          "output_type": "stream",
          "name": "stdout",
          "text": [
            "/content\n"
          ]
        }
      ]
    },
    {
      "cell_type": "markdown",
      "source": [
        "# **Installing Scikit Library**\n",
        "\n",
        "---\n",
        "\n",
        "\n",
        "\n",
        "---\n",
        "\n"
      ],
      "metadata": {
        "id": "-yr-uFyWzBUv"
      }
    },
    {
      "cell_type": "code",
      "source": [
        "pip install scikit-learn"
      ],
      "metadata": {
        "colab": {
          "base_uri": "https://localhost:8080/"
        },
        "id": "7O9uSlY4h2nU",
        "outputId": "a30dba8b-3003-42a5-9ccf-68b94cafa94a"
      },
      "execution_count": null,
      "outputs": [
        {
          "output_type": "stream",
          "name": "stdout",
          "text": [
            "Requirement already satisfied: scikit-learn in /usr/local/lib/python3.10/dist-packages (1.2.2)\n",
            "Requirement already satisfied: numpy>=1.17.3 in /usr/local/lib/python3.10/dist-packages (from scikit-learn) (1.23.5)\n",
            "Requirement already satisfied: scipy>=1.3.2 in /usr/local/lib/python3.10/dist-packages (from scikit-learn) (1.11.3)\n",
            "Requirement already satisfied: joblib>=1.1.1 in /usr/local/lib/python3.10/dist-packages (from scikit-learn) (1.3.2)\n",
            "Requirement already satisfied: threadpoolctl>=2.0.0 in /usr/local/lib/python3.10/dist-packages (from scikit-learn) (3.2.0)\n"
          ]
        }
      ]
    },
    {
      "cell_type": "markdown",
      "source": [
        "# **Uploading Pre-processed CSV File**\n",
        "\n",
        "---\n",
        "\n",
        "\n",
        "\n",
        "---\n",
        "\n"
      ],
      "metadata": {
        "id": "8jy7Tomay83l"
      }
    },
    {
      "cell_type": "code",
      "source": [
        "from google.colab import files\n",
        "uploaded=files.upload()"
      ],
      "metadata": {
        "colab": {
          "base_uri": "https://localhost:8080/",
          "height": 73
        },
        "id": "Ni05EFyfiCI3",
        "outputId": "6c35572f-e2a1-4403-9e60-b20f988544c2"
      },
      "execution_count": null,
      "outputs": [
        {
          "output_type": "display_data",
          "data": {
            "text/plain": [
              "<IPython.core.display.HTML object>"
            ],
            "text/html": [
              "\n",
              "     <input type=\"file\" id=\"files-b5d082f6-56d9-41a6-aeef-aec7e3c316f4\" name=\"files[]\" multiple disabled\n",
              "        style=\"border:none\" />\n",
              "     <output id=\"result-b5d082f6-56d9-41a6-aeef-aec7e3c316f4\">\n",
              "      Upload widget is only available when the cell has been executed in the\n",
              "      current browser session. Please rerun this cell to enable.\n",
              "      </output>\n",
              "      <script>// Copyright 2017 Google LLC\n",
              "//\n",
              "// Licensed under the Apache License, Version 2.0 (the \"License\");\n",
              "// you may not use this file except in compliance with the License.\n",
              "// You may obtain a copy of the License at\n",
              "//\n",
              "//      http://www.apache.org/licenses/LICENSE-2.0\n",
              "//\n",
              "// Unless required by applicable law or agreed to in writing, software\n",
              "// distributed under the License is distributed on an \"AS IS\" BASIS,\n",
              "// WITHOUT WARRANTIES OR CONDITIONS OF ANY KIND, either express or implied.\n",
              "// See the License for the specific language governing permissions and\n",
              "// limitations under the License.\n",
              "\n",
              "/**\n",
              " * @fileoverview Helpers for google.colab Python module.\n",
              " */\n",
              "(function(scope) {\n",
              "function span(text, styleAttributes = {}) {\n",
              "  const element = document.createElement('span');\n",
              "  element.textContent = text;\n",
              "  for (const key of Object.keys(styleAttributes)) {\n",
              "    element.style[key] = styleAttributes[key];\n",
              "  }\n",
              "  return element;\n",
              "}\n",
              "\n",
              "// Max number of bytes which will be uploaded at a time.\n",
              "const MAX_PAYLOAD_SIZE = 100 * 1024;\n",
              "\n",
              "function _uploadFiles(inputId, outputId) {\n",
              "  const steps = uploadFilesStep(inputId, outputId);\n",
              "  const outputElement = document.getElementById(outputId);\n",
              "  // Cache steps on the outputElement to make it available for the next call\n",
              "  // to uploadFilesContinue from Python.\n",
              "  outputElement.steps = steps;\n",
              "\n",
              "  return _uploadFilesContinue(outputId);\n",
              "}\n",
              "\n",
              "// This is roughly an async generator (not supported in the browser yet),\n",
              "// where there are multiple asynchronous steps and the Python side is going\n",
              "// to poll for completion of each step.\n",
              "// This uses a Promise to block the python side on completion of each step,\n",
              "// then passes the result of the previous step as the input to the next step.\n",
              "function _uploadFilesContinue(outputId) {\n",
              "  const outputElement = document.getElementById(outputId);\n",
              "  const steps = outputElement.steps;\n",
              "\n",
              "  const next = steps.next(outputElement.lastPromiseValue);\n",
              "  return Promise.resolve(next.value.promise).then((value) => {\n",
              "    // Cache the last promise value to make it available to the next\n",
              "    // step of the generator.\n",
              "    outputElement.lastPromiseValue = value;\n",
              "    return next.value.response;\n",
              "  });\n",
              "}\n",
              "\n",
              "/**\n",
              " * Generator function which is called between each async step of the upload\n",
              " * process.\n",
              " * @param {string} inputId Element ID of the input file picker element.\n",
              " * @param {string} outputId Element ID of the output display.\n",
              " * @return {!Iterable<!Object>} Iterable of next steps.\n",
              " */\n",
              "function* uploadFilesStep(inputId, outputId) {\n",
              "  const inputElement = document.getElementById(inputId);\n",
              "  inputElement.disabled = false;\n",
              "\n",
              "  const outputElement = document.getElementById(outputId);\n",
              "  outputElement.innerHTML = '';\n",
              "\n",
              "  const pickedPromise = new Promise((resolve) => {\n",
              "    inputElement.addEventListener('change', (e) => {\n",
              "      resolve(e.target.files);\n",
              "    });\n",
              "  });\n",
              "\n",
              "  const cancel = document.createElement('button');\n",
              "  inputElement.parentElement.appendChild(cancel);\n",
              "  cancel.textContent = 'Cancel upload';\n",
              "  const cancelPromise = new Promise((resolve) => {\n",
              "    cancel.onclick = () => {\n",
              "      resolve(null);\n",
              "    };\n",
              "  });\n",
              "\n",
              "  // Wait for the user to pick the files.\n",
              "  const files = yield {\n",
              "    promise: Promise.race([pickedPromise, cancelPromise]),\n",
              "    response: {\n",
              "      action: 'starting',\n",
              "    }\n",
              "  };\n",
              "\n",
              "  cancel.remove();\n",
              "\n",
              "  // Disable the input element since further picks are not allowed.\n",
              "  inputElement.disabled = true;\n",
              "\n",
              "  if (!files) {\n",
              "    return {\n",
              "      response: {\n",
              "        action: 'complete',\n",
              "      }\n",
              "    };\n",
              "  }\n",
              "\n",
              "  for (const file of files) {\n",
              "    const li = document.createElement('li');\n",
              "    li.append(span(file.name, {fontWeight: 'bold'}));\n",
              "    li.append(span(\n",
              "        `(${file.type || 'n/a'}) - ${file.size} bytes, ` +\n",
              "        `last modified: ${\n",
              "            file.lastModifiedDate ? file.lastModifiedDate.toLocaleDateString() :\n",
              "                                    'n/a'} - `));\n",
              "    const percent = span('0% done');\n",
              "    li.appendChild(percent);\n",
              "\n",
              "    outputElement.appendChild(li);\n",
              "\n",
              "    const fileDataPromise = new Promise((resolve) => {\n",
              "      const reader = new FileReader();\n",
              "      reader.onload = (e) => {\n",
              "        resolve(e.target.result);\n",
              "      };\n",
              "      reader.readAsArrayBuffer(file);\n",
              "    });\n",
              "    // Wait for the data to be ready.\n",
              "    let fileData = yield {\n",
              "      promise: fileDataPromise,\n",
              "      response: {\n",
              "        action: 'continue',\n",
              "      }\n",
              "    };\n",
              "\n",
              "    // Use a chunked sending to avoid message size limits. See b/62115660.\n",
              "    let position = 0;\n",
              "    do {\n",
              "      const length = Math.min(fileData.byteLength - position, MAX_PAYLOAD_SIZE);\n",
              "      const chunk = new Uint8Array(fileData, position, length);\n",
              "      position += length;\n",
              "\n",
              "      const base64 = btoa(String.fromCharCode.apply(null, chunk));\n",
              "      yield {\n",
              "        response: {\n",
              "          action: 'append',\n",
              "          file: file.name,\n",
              "          data: base64,\n",
              "        },\n",
              "      };\n",
              "\n",
              "      let percentDone = fileData.byteLength === 0 ?\n",
              "          100 :\n",
              "          Math.round((position / fileData.byteLength) * 100);\n",
              "      percent.textContent = `${percentDone}% done`;\n",
              "\n",
              "    } while (position < fileData.byteLength);\n",
              "  }\n",
              "\n",
              "  // All done.\n",
              "  yield {\n",
              "    response: {\n",
              "      action: 'complete',\n",
              "    }\n",
              "  };\n",
              "}\n",
              "\n",
              "scope.google = scope.google || {};\n",
              "scope.google.colab = scope.google.colab || {};\n",
              "scope.google.colab._files = {\n",
              "  _uploadFiles,\n",
              "  _uploadFilesContinue,\n",
              "};\n",
              "})(self);\n",
              "</script> "
            ]
          },
          "metadata": {}
        },
        {
          "output_type": "stream",
          "name": "stdout",
          "text": [
            "Saving preprocessed_hate_speech_dataset.csv to preprocessed_hate_speech_dataset (1).csv\n"
          ]
        }
      ]
    },
    {
      "cell_type": "markdown",
      "source": [
        "# **Implementing Machine Learning Models**\n",
        "\n",
        "---\n",
        "\n",
        "\n",
        "\n",
        "---\n",
        "\n"
      ],
      "metadata": {
        "id": "Ah-6HK-Vzbez"
      }
    },
    {
      "cell_type": "markdown",
      "source": [
        "# **Decision Tree**\n",
        "\n",
        "---\n",
        "\n",
        "A Decision Tree is a machine learning algorithm that partitions data into subsets based on feature values. It recursively selects the best features to create a tree-like structure for classification or regression. It is interpretable and visualizable, providing insights into feature importance.\n",
        "\n",
        "## **Explanation**\n",
        "\n",
        "---\n",
        "\n",
        "* `Data Preparation:` Load preprocessed hate speech data from a CSV file.\n",
        "Split the data into training and testing sets.\n",
        "\n",
        "* `Text Vectorization:` Use TF-IDF to convert the text data into numerical vectors.\n",
        "\n",
        "* `Decision Tree Model:` Initialize and train a Decision Tree Classifier on the training data.\n",
        "\n",
        "* `Model Prediction:` Predict labels for the test set using the trained model.\n",
        "\n",
        "* `Evaluation and Reporting:` Calculate and display classification metrics (accuracy, precision, recall, and F1 score) using a classification report. The results are presented in a Pandas DataFrame."
      ],
      "metadata": {
        "id": "SZ2OyjfY0apR"
      }
    },
    {
      "cell_type": "code",
      "source": [
        "import pandas as pd\n",
        "from sklearn.feature_extraction.text import TfidfVectorizer\n",
        "from sklearn.tree import DecisionTreeClassifier\n",
        "from sklearn.model_selection import train_test_split\n",
        "from sklearn.metrics import classification_report\n",
        "from nltk.corpus import stopwords\n",
        "from nltk.stem import WordNetLemmatizer\n",
        "from nltk.tokenize import word_tokenize\n",
        "import re\n",
        "\n",
        "# Read the preprocessed CSV file\n",
        "data = pd.read_csv('preprocessed_hate_speech_dataset (1).csv')\n",
        "\n",
        "# Split data into features and labels\n",
        "X = data['preprocessed_text']  # Features\n",
        "y = data['class']  # Target labels\n",
        "\n",
        "# Split the data into training and testing sets\n",
        "X_train, X_test, y_train, y_test = train_test_split(X, y, test_size=0.2, random_state=42)\n",
        "\n",
        "# Vectorize the text data using TF-IDF\n",
        "vectorizer = TfidfVectorizer()\n",
        "X_train_vec = vectorizer.fit_transform(X_train)\n",
        "X_test_vec = vectorizer.transform(X_test)\n",
        "\n",
        "# Initialize and train a Decision Tree Classifier\n",
        "dt_classifier = DecisionTreeClassifier()\n",
        "dt_classifier.fit(X_train_vec, y_train)\n",
        "\n",
        "# Predict on the test set\n",
        "y_pred_dt = dt_classifier.predict(X_test_vec)\n",
        "\n",
        "# Evaluate the model\n",
        "report = classification_report(y_test, y_pred_dt, output_dict=True)\n",
        "model_name = \"Decision Tree\"\n",
        "\n",
        "# Extracting metrics\n",
        "accuracy = report['accuracy']\n",
        "precision = report['weighted avg']['precision']\n",
        "f1_score = report['weighted avg']['f1-score']\n",
        "recall = report['weighted avg']['recall']\n",
        "\n",
        "results_df = pd.DataFrame({\n",
        "    'Model': [model_name],\n",
        "    'Accuracy': [accuracy],\n",
        "    'Precision': [precision],\n",
        "    'F1 Score': [f1_score],\n",
        "    'Recall': [recall]\n",
        "})\n",
        "\n",
        "print(results_df)\n"
      ],
      "metadata": {
        "colab": {
          "base_uri": "https://localhost:8080/"
        },
        "id": "Gq4LZIuCh_s7",
        "outputId": "57495483-951b-4b46-ddb9-09ee0c3a0a9b"
      },
      "execution_count": null,
      "outputs": [
        {
          "output_type": "stream",
          "name": "stdout",
          "text": [
            "           Model  Accuracy  Precision  F1 Score    Recall\n",
            "0  Decision Tree  0.710714   0.707741  0.709145  0.710714\n"
          ]
        }
      ]
    },
    {
      "cell_type": "markdown",
      "source": [
        "# **Logistic Regression**\n",
        "\n",
        "---\n",
        "Logistic Regression is a linear model for binary and multiclass classification. It estimates the probability that an input belongs to a particular class using a logistic function. The model is trained to optimize the likelihood of observed labels and makes predictions based on a chosen threshold. Logistic Regression is widely used for its simplicity and interpretability, making it suitable for various classification tasks, including text classification.\n",
        "\n"
      ],
      "metadata": {
        "id": "iPOlukCX17_B"
      }
    },
    {
      "cell_type": "code",
      "source": [
        "import pandas as pd\n",
        "from sklearn.feature_extraction.text import TfidfVectorizer\n",
        "from sklearn.linear_model import LogisticRegression\n",
        "from sklearn.model_selection import train_test_split\n",
        "from sklearn.metrics import classification_report\n",
        "\n",
        "# Read the preprocessed CSV file\n",
        "data = pd.read_csv('preprocessed_hate_speech_dataset (1).csv')\n",
        "\n",
        "# Split data into features and labels\n",
        "X = data['preprocessed_text']  # Features\n",
        "y = data['class']  # Target labels\n",
        "\n",
        "# Split the data into training and testing sets\n",
        "X_train, X_test, y_train, y_test = train_test_split(X, y, test_size=0.2, random_state=42)\n",
        "\n",
        "# Vectorize the text data using TF-IDF\n",
        "vectorizer = TfidfVectorizer()\n",
        "X_train_vec = vectorizer.fit_transform(X_train)\n",
        "X_test_vec = vectorizer.transform(X_test)\n",
        "\n",
        "# Initialize and train a Logistic Regression model\n",
        "logistic_regression = LogisticRegression(max_iter=1000)\n",
        "logistic_regression.fit(X_train_vec, y_train)\n",
        "\n",
        "# Predict on the test set\n",
        "y_pred_lr = logistic_regression.predict(X_test_vec)\n",
        "\n",
        "# Evaluate the model\n",
        "report = classification_report(y_test, y_pred_lr, output_dict=True)\n",
        "model_name = \"Logistic Regression\"\n",
        "\n",
        "# Extracting metrics\n",
        "accuracy = report['accuracy']\n",
        "precision = report['weighted avg']['precision']\n",
        "f1_score = report['weighted avg']['f1-score']\n",
        "recall = report['weighted avg']['recall']\n",
        "\n",
        "results_df = pd.DataFrame({\n",
        "    'Model': [model_name],\n",
        "    'Accuracy': [accuracy],\n",
        "    'Precision': [precision],\n",
        "    'F1 Score': [f1_score],\n",
        "    'Recall': [recall]\n",
        "})\n",
        "\n",
        "print(results_df)\n"
      ],
      "metadata": {
        "colab": {
          "base_uri": "https://localhost:8080/"
        },
        "id": "ESf7iG033qzL",
        "outputId": "51c69f26-d79a-4281-f6c2-a5d71e1f5191"
      },
      "execution_count": null,
      "outputs": [
        {
          "output_type": "stream",
          "name": "stdout",
          "text": [
            "                 Model  Accuracy  Precision  F1 Score    Recall\n",
            "0  Logistic Regression  0.785714    0.80956  0.746971  0.785714\n"
          ]
        }
      ]
    },
    {
      "cell_type": "markdown",
      "source": [
        "# **Support Vector Machine**\n",
        "\n",
        "---\n",
        "Support Vector Machine (SVM) is a supervised machine learning algorithm used for classification and regression tasks. In classification, it finds a hyperplane that best separates different classes in the feature space. SVM is effective in high-dimensional spaces and is particularly well-suited for text classification tasks. It aims to maximize the margin between classes, making it robust and powerful for various applications.\n",
        "\n",
        "\n"
      ],
      "metadata": {
        "id": "Am1JTI7A3C87"
      }
    },
    {
      "cell_type": "code",
      "source": [
        "from sklearn.svm import SVC  # Importing SVM classifier\n",
        "\n",
        "# Initialize and train a Support Vector Machine (SVM) classifier\n",
        "svm_classifier = SVC(kernel='linear')  # You can choose different kernels (e.g., linear, rbf, etc.)\n",
        "svm_classifier.fit(X_train_vec, y_train)\n",
        "\n",
        "# Predict on the test set\n",
        "y_pred_svm = svm_classifier.predict(X_test_vec)\n",
        "\n",
        "# Evaluate the SVM model\n",
        "svm_report = classification_report(y_test, y_pred_svm, output_dict=True)\n",
        "svm_model_name = \"SVM\"\n",
        "\n",
        "# Extracting metrics\n",
        "svm_accuracy = svm_report['accuracy']\n",
        "svm_precision = svm_report['weighted avg']['precision']\n",
        "svm_f1_score = svm_report['weighted avg']['f1-score']\n",
        "svm_recall = svm_report['weighted avg']['recall']\n",
        "\n",
        "svm_results_df = pd.DataFrame({\n",
        "    'Model': [svm_model_name],\n",
        "    'Accuracy': [svm_accuracy],\n",
        "    'Precision': [svm_precision],\n",
        "    'F1 Score': [svm_f1_score],\n",
        "    'Recall': [svm_recall]\n",
        "})\n",
        "\n",
        "print(svm_results_df)\n"
      ],
      "metadata": {
        "colab": {
          "base_uri": "https://localhost:8080/"
        },
        "id": "qNETHR2i9p5g",
        "outputId": "c3226f07-e832-4583-df13-4e676ee03cc8"
      },
      "execution_count": null,
      "outputs": [
        {
          "output_type": "stream",
          "name": "stdout",
          "text": [
            "  Model  Accuracy  Precision  F1 Score  Recall\n",
            "0   SVM       0.8   0.795068  0.783631     0.8\n"
          ]
        }
      ]
    },
    {
      "cell_type": "markdown",
      "source": [
        "# **Visualization**\n",
        "\n",
        "---\n",
        "\n",
        "\n",
        "\n",
        "---\n",
        "\n",
        "Visualization is the graphical representation of data to make patterns, trends, and insights easily understandable. It involves creating charts, graphs, and other visual elements to communicate complex information, aiding analysis and decision-making across various fields. Effective visualization emphasizes clarity, interactivity, and design to convey information in an accessible manner.\n",
        "\n",
        "## **Using Matplotib for representing Bar Graph**\n",
        "\n",
        "---\n",
        "\n",
        "## 1. Matplotib\n",
        "\n",
        "Matplotlib is a Python library for creating static, animated, and interactive visualizations in a variety of formats. It provides a wide range of plotting options, including line plots, scatter plots, and bar graphs. Matplotlib is widely used for data visualization due to its flexibility and ease of use. With Matplotlib, users can customize various aspects of their plots, such as colors, labels, and styles, to create visually appealing and informative graphics.\n",
        "\n",
        "## 2. Bar Graph\n",
        "\n",
        "A bar graph is a visual representation of data using rectangular bars of varying lengths or heights. Each bar corresponds to a category, and the length or height represents the quantity or value associated with that category. Bar graphs are effective for comparing data across different categories and identifying trends or variations.\n",
        "\n",
        "\n",
        "\n",
        "---\n",
        "\n",
        "## Explanation\n",
        "\n",
        "\n",
        "*   `X-axis:` Represents the different models being compared (SVM, Logistic Regression, Decision Tree).\n",
        "*   `Y-axis: `Depicts the scale for the evaluation metrics (ranging from 0 to 1).\n",
        "\n",
        "*   `Bars:` Each model has a set of four bars representing different evaluation metrics.\n",
        "\n",
        "  - Blue bars represent Accuracy.\n",
        "  - Orange bars represent Precision.\n",
        "  - Green bars represent Recall.\n",
        "  - Red bars represent F1 Score.\n",
        "\n",
        "*   `Positioning:` The bars for each metric for every model are positioned side by side but slightly separated to allow for clear visualization and comparison.\n",
        "\n",
        "*   `Legend:` The legend on the plot specifies which color corresponds to each metric.\n",
        "\n",
        "*   `Visualization Purpose:` This visualization allows for a quick comparison of how each model performs across multiple metrics simultaneously. For instance, it's easy to see which model performs better in terms of Accuracy, Precision, Recall, and F1 Score at a glance. The viewer can quickly interpret the strengths and weaknesses of each model in these metrics, aiding in model selection or further analysis based on specific evaluation criteria."
      ],
      "metadata": {
        "id": "4yDGw8uR3oD7"
      }
    },
    {
      "cell_type": "code",
      "source": [
        "import matplotlib.pyplot as plt\n",
        "import pandas as pd\n",
        "\n",
        "data = {\n",
        "    'Model': ['SVM', 'Logistic Regression', 'Decision Tree'],\n",
        "    'Accuracy': [0.80, 0.79, 0.71],\n",
        "    'Precision': [0.795, 0.810, 0.708],\n",
        "    'F1 Score': [0.784, 0.747, 0.709],\n",
        "    'Recall': [0.80, 0.79, 0.71]\n",
        "}\n",
        "\n",
        "df = pd.DataFrame(data)\n",
        "\n",
        "bar_width = 0.2\n",
        "\n",
        "r1 = range(len(df))\n",
        "r2 = [x + bar_width for x in r1]\n",
        "r3 = [x + bar_width for x in r2]\n",
        "r4 = [x + bar_width for x in r3]\n",
        "\n",
        "plt.figure(figsize=(10, 6))\n",
        "\n",
        "plt.bar(r1, df['Accuracy'], color='blue', width=bar_width, edgecolor='grey', label='Accuracy')\n",
        "plt.bar(r2, df['Precision'], color='orange', width=bar_width, edgecolor='grey', label='Precision')\n",
        "plt.bar(r3, df['Recall'], color='green', width=bar_width, edgecolor='grey', label='Recall')\n",
        "plt.bar(r4, df['F1 Score'], color='red', width=bar_width, edgecolor='grey', label='F1 Score')\n",
        "\n",
        "plt.xlabel('Model')\n",
        "plt.ylabel('Metrics')\n",
        "plt.title('Comparison of Model Metrics')\n",
        "plt.xticks([r + bar_width * 1.5 for r in range(len(df))], df['Model'])\n",
        "plt.legend()\n",
        "plt.ylim(0, 1)  # Set the y-axis limit to the range of metric values (0 to 1)\n",
        "plt.show()\n"
      ],
      "metadata": {
        "colab": {
          "base_uri": "https://localhost:8080/",
          "height": 564
        },
        "id": "GIdWAf6d8f8c",
        "outputId": "74aba26d-4648-4ee1-9565-57d0a120f5ff"
      },
      "execution_count": null,
      "outputs": [
        {
          "output_type": "display_data",
          "data": {
            "text/plain": [
              "<Figure size 1000x600 with 1 Axes>"
            ],
            "image/png": "[encoded data removed]"
          },
          "metadata": {}
        }
      ]
    },
    {
      "cell_type": "markdown",
      "source": [
        "# **Heatmap**\n",
        "\n",
        "\n",
        "\n",
        "---\n",
        "\n",
        "\n",
        "\n",
        "---\n",
        "\n",
        "A heatmap is a graphical representation of data where individual values in a matrix are represented as colors. In the context of model evaluation, a heatmap can provide a visual summary of performance metrics for different models across various criteria.\n",
        "\n",
        "\n",
        "## Explanation\n",
        "---\n",
        "\n",
        "`Visualization Purpose:` The heatmap provides a visual summary of model performance. Each cell in the heatmap represents a specific metric for a particular model. The color intensity in each cell corresponds to the metric value, allowing for a quick comparison between models and their performance across different evaluation criteria. Higher values are usually represented by brighter colors, making it easy to identify models with stronger or weaker performance in specific metrics.\n"
      ],
      "metadata": {
        "id": "NdcME8YxTOFo"
      }
    },
    {
      "cell_type": "code",
      "source": [
        "import matplotlib.pyplot as plt\n",
        "import seaborn as sns\n",
        "import pandas as pd\n",
        "\n",
        "data = {\n",
        "    'Model': ['SVM', 'Logistic Regression', 'Decision Tree'],\n",
        "    'Accuracy': [0.80, 0.79, 0.71],\n",
        "    'Precision': [0.795, 0.810, 0.708],\n",
        "    'F1 Score': [0.784, 0.747, 0.709],\n",
        "    'Recall': [0.80, 0.79, 0.71]\n",
        "}\n",
        "\n",
        "df = pd.DataFrame(data)\n",
        "\n",
        "# Set 'Model' as the index for the heatmap\n",
        "df.set_index('Model', inplace=True)\n",
        "\n",
        "# Plotting the heatmap\n",
        "plt.figure(figsize=(10, 6))\n",
        "sns.heatmap(df, annot=True, cmap='viridis', linewidths=.5)\n",
        "\n",
        "plt.title('Heatmap of Model Metrics')\n",
        "plt.show()\n"
      ],
      "metadata": {
        "colab": {
          "base_uri": "https://localhost:8080/",
          "height": 545
        },
        "id": "lm6fKopZNMld",
        "outputId": "0d5594d7-fa28-49a9-bfa1-112bdeaca593"
      },
      "execution_count": null,
      "outputs": [
        {
          "output_type": "display_data",
          "data": {
            "text/plain": [
              "<Figure size 1000x600 with 2 Axes>"
            ],
            "image/png": "[encoded data removed]"
          },
          "metadata": {}
        }
      ]
    }
  ]
}